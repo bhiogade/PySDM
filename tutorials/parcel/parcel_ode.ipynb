{
 "cells": [
  {
   "cell_type": "code",
   "execution_count": 1,
   "id": "initial_id",
   "metadata": {
    "ExecuteTime": {
     "end_time": "2024-03-18T11:12:52.992446Z",
     "start_time": "2024-03-18T11:12:52.276645Z"
    }
   },
   "outputs": [],
   "source": [
    "\"\"\" minimalistic adiabatic parcel model using Numpy, pint, SciPy/odeint and matplotlib \"\"\"\n",
    "import math, pint, scipy, chempy, ipywidgets, IPython\n",
    "from matplotlib import pyplot\n",
    "si = pint.UnitRegistry()\n",
    "si.setup_matplotlib()"
   ]
  },
  {
   "cell_type": "code",
   "execution_count": 2,
   "id": "80db779823de1332",
   "metadata": {
    "ExecuteTime": {
     "end_time": "2024-03-18T11:12:52.997617Z",
     "start_time": "2024-03-18T11:12:52.995758Z"
    },
    "collapsed": false,
    "jupyter": {
     "outputs_hidden": false
    }
   },
   "outputs": [],
   "source": [
    "N_SD = 5 # TODO\n",
    "\n",
    "IDX_R0 = 0\n",
    "IDX_RN = N_SD\n",
    "IDX_Z = N_SD\n",
    "IDX_S = N_SD + 1\n",
    "IDX_T = N_SD + 2\n",
    "IDX_D = N_SD + 3\n",
    "IDX_ALL = N_SD + 4\n",
    "\n",
    "units = [None] * IDX_ALL\n",
    "units[IDX_Z] = si.m\n",
    "units[IDX_S] = si.dimensionless\n",
    "units[IDX_T] = si.K\n",
    "units[IDX_D] = si.kg / si.m**3\n",
    "units[IDX_R0 : IDX_RN] = [si.m] * N_SD"
   ]
  },
  {
   "cell_type": "code",
   "execution_count": 3,
   "id": "613863dd840e1a6e",
   "metadata": {
    "ExecuteTime": {
     "end_time": "2024-03-18T11:12:53.374205Z",
     "start_time": "2024-03-18T11:12:53.000772Z"
    },
    "collapsed": false,
    "jupyter": {
     "outputs_hidden": false
    }
   },
   "outputs": [],
   "source": [
    "def sample_spectrum(parameters):\n",
    "    spectrum = scipy.stats.lognorm(*(\n",
    "        math.log(parameters['lognormal_geometric_stdev']),\n",
    "        0,\n",
    "        parameters['lognormal_median_radius'].to(si.m).magnitude\n",
    "    ))\n",
    "    # TODO: plot spectrum.pdf & the sampled distribition\n",
    "    return {\n",
    "        'multiplicity': [parameters['total_aerosol_number'] / N_SD] * N_SD,\n",
    "        'dry radius': [\n",
    "            spectrum.ppf(\n",
    "                (2 * i - 1) / (2 * N_SD)\n",
    "            ) * si.m\n",
    "            for i in range(1, N_SD + 1)\n",
    "        ]\n",
    "    }\n",
    "\n",
    "CONST = {\n",
    "    'M_dry': (\n",
    "        0.76 * chempy.Substance.from_formula(\"N2\").mass * si.gram / si.mole +\n",
    "        0.23 * chempy.Substance.from_formula(\"O2\").mass * si.gram / si.mole +\n",
    "        0.01 * chempy.Substance.from_formula(\"Ar\").mass * si.gram / si.mole\n",
    "    ),\n",
    "    'M_vap': chempy.Substance.from_formula(\"H2O\").mass * si.gram / si.mole,\n",
    "    'g': scipy.constants.g * si.m / si.s**2,\n",
    "    'water_density': 1000 * si.kg / si.m**3,\n",
    "    \"specific_heat_constant_pressure\": 1005 * si.J / si.kg / si.K,\n",
    "    \"latent_heat\": 2.27e6 * si.J / si.kg,\n",
    "    \"surface_tension_water\": 7.5e-2 * si.N / si.m,\n",
    "}\n",
    "CONST['R_dry'] = scipy.constants.R * si.J / si.mole / si.K / CONST['M_dry']\n",
    "CONST['eps'] = CONST['M_vap'] / CONST['M_dry']"
   ]
  },
  {
   "cell_type": "code",
   "execution_count": 4,
   "id": "ce741be9fda22c8",
   "metadata": {
    "ExecuteTime": {
     "end_time": "2024-03-18T11:13:23.427541Z",
     "start_time": "2024-03-18T11:13:23.418480Z"
    },
    "collapsed": false,
    "jupyter": {
     "outputs_hidden": false
    }
   },
   "outputs": [],
   "source": [
    "def funct(state, _, parameters):\n",
    "    \"\"\" returns time derivative of the state vector \"\"\"\n",
    "    saturated = state[IDX_S]\n",
    "    temperature = state[IDX_T] * units[IDX_T]\n",
    "    air_density = state[IDX_D] * units[IDX_D]\n",
    "\n",
    "    condensation_rate_constant = CONST['water_density'] * 4 * math.pi / parameters['total_aerosol_number'] / parameters['mass_of_dry_air']\n",
    "    pressure = 938.5 * si.hPa\n",
    "    \n",
    "    water_vapor_diffusivity = 1e-5 * si.m**2 / si.s * (\n",
    "            (0.015 / si.K * temperature) - 1.9)\n",
    "    thermal_conductivity = (\n",
    "            (1.5e-11 * si.W / si.m / si.K**4) * temperature**3\n",
    "            + (-4.8e-8 * si.W / si.m / si.K**3) * temperature**2\n",
    "            + (1e-4 * si.W / si.m / si.K**2) * temperature\n",
    "            + -3.9e-4 * si.W / si.m / si.K\n",
    "        )\n",
    "\n",
    "    saturated_vapor_pressure = 6.112 * si.hPa * math.exp(\n",
    "        (17.67 * si.dimensionless * temperature) / (temperature + 243.5 * si.K))\n",
    "\n",
    "    a_coeff = (CONST['g'] / (CONST['R_dry'] * temperature)  * (\n",
    "        (CONST['eps'] * CONST[\"latent_heat\"]) / (CONST[\"specific_heat_constant_pressure\"] * temperature) - 1 )\n",
    "    )\n",
    "\n",
    "    b_coeff = air_density * (\n",
    "        (CONST['R_dry'] * temperature / (CONST['eps'] * saturated_vapor_pressure))\n",
    "        +\n",
    "        (CONST['eps'] * CONST[\"latent_heat\"] ** 2 / (pressure * temperature * CONST[\"specific_heat_constant_pressure\"]))\n",
    "    )\n",
    "\n",
    "    drop_surface_term = (2 * CONST['surface_tension_water']) / (CONST['R_dry'] * CONST['water_density'] * temperature)\n",
    "\n",
    "    a_value = ((saturated_vapor_pressure * water_vapor_diffusivity)\n",
    "               / (CONST['water_density'] * temperature * CONST['R_dry']))\n",
    "    b_value = (((thermal_conductivity * temperature)/ (CONST['water_density'] * CONST[\"latent_heat\"]))\n",
    "               * ((CONST[\"latent_heat\"] / (CONST['R_dry'] * temperature)) - 1))\n",
    "\n",
    "    g_term = a_value + b_value\n",
    "\n",
    "    deriv = [None] * len(state)\n",
    "    deriv[IDX_Z] = parameters['updraft']\n",
    "\n",
    "    condensation_rate = 0 / si.s\n",
    "\n",
    "    for i in range(IDX_R0, IDX_RN):\n",
    "        radii = state[i]* units[i]\n",
    "        drop_solute_term = parameters['kappa'] * (parameters['sampled_spectrum']['dry radius'][i])**3\n",
    "        deriv[i] = ((g_term/radii) *\n",
    "                    (saturated - 1 - (drop_surface_term/radii)\n",
    "                     +\n",
    "                     (drop_solute_term/(radii**3))))\n",
    "\n",
    "        condensation_rate += (condensation_rate_constant *\n",
    "                              (parameters['sampled_spectrum']['multiplicity'][i] * radii**2 * deriv[i])\n",
    "                             )\n",
    "    deriv[IDX_S] = a_coeff * parameters['updraft']  + b_coeff * condensation_rate\n",
    "    deriv[IDX_T] = - ((CONST[\"latent_heat\"] / CONST[\"specific_heat_constant_pressure\"])\n",
    "                    * condensation_rate) - ((CONST['g'] / CONST[\"specific_heat_constant_pressure\"])\n",
    "                    * (deriv[IDX_Z]))\n",
    "    deriv[IDX_D] = (- ((air_density * CONST['g'] * deriv[IDX_Z]) / (CONST['R_dry'] * temperature))\n",
    "                    - ((air_density / temperature) * deriv[IDX_T]))\n",
    "    return [\n",
    "        deriv[i].to(units[i] / si.s).magnitude\n",
    "        for i in range(len(units))\n",
    "    ]"
   ]
  },
  {
   "cell_type": "code",
   "execution_count": 8,
   "id": "73acd4bfd7c62714",
   "metadata": {
    "ExecuteTime": {
     "end_time": "2024-03-18T11:13:24.205292Z",
     "start_time": "2024-03-18T11:13:23.619735Z"
    },
    "collapsed": false,
    "jupyter": {
     "outputs_hidden": false
    }
   },
   "outputs": [],
   "source": [
    "def integrate(parameters):    \n",
    "    initial_condition = [None] * IDX_ALL\n",
    "    initial_condition[IDX_S] = 0.8 * si.dimensionless\n",
    "    initial_condition[IDX_Z] = 0 * si.m\n",
    "    initial_condition[IDX_R0 : IDX_RN] = [1 * si.um] * N_SD\n",
    "    initial_condition[IDX_T] = 284.3 * si.K\n",
    "    initial_condition[IDX_D] = 1.293 * si.kg / si.m**3\n",
    "    \n",
    "    nt = 40\n",
    "    dt_out = 5 * si.s\n",
    "    \n",
    "    integration_result = scipy.integrate.odeint(\n",
    "        funct,\n",
    "        [x.to(units[i]).magnitude for i, x in enumerate(initial_condition)],\n",
    "        t=[(i * dt_out).to(si.s).magnitude for i in range(nt + 1)],\n",
    "        args=(parameters,)\n",
    "    )\n",
    "    return [\n",
    "        integration_result[:, i] * units[i]\n",
    "        for i in range(integration_result.shape[1])\n",
    "    ]"
   ]
  },
  {
   "cell_type": "code",
   "execution_count": 16,
   "id": "9d5bcaaffa772ffd",
   "metadata": {
    "ExecuteTime": {
     "end_time": "2024-03-18T11:18:30.245014Z",
     "start_time": "2024-03-18T11:18:30.018648Z"
    },
    "collapsed": false,
    "jupyter": {
     "outputs_hidden": false
    }
   },
   "outputs": [],
   "source": [
    "def plot(integration_result_with_units):\n",
    "    PLOTS = (\n",
    "        ((IDX_S,), \"saturation\", None),\n",
    "        (range(IDX_R0, IDX_RN), \"drop radii\", si.um),\n",
    "        ((IDX_T,), \"temperature\", None),\n",
    "        ((IDX_D,), \"density\", None),\n",
    "    )\n",
    "    \n",
    "    fig, axs = pyplot.subplots(1, len(PLOTS), sharey=True)\n",
    "    \n",
    "    for i, (vars, name, unit) in enumerate(PLOTS):\n",
    "        for idx in vars:\n",
    "            axs[i].plot(\n",
    "                integration_result_with_units[idx],\n",
    "                integration_result_with_units[IDX_Z],\n",
    "            )\n",
    "        axs[i].set_title(f\"{name} vs. height\")\n",
    "        if unit: axs[i].xaxis.set_units(unit)\n",
    "    \n",
    "    for ax in axs:\n",
    "        ax.grid()"
   ]
  },
  {
   "cell_type": "code",
   "execution_count": 18,
   "id": "32d6bc6d68c8fe9b",
   "metadata": {
    "ExecuteTime": {
     "end_time": "2024-03-18T11:31:31.782863Z",
     "start_time": "2024-03-18T11:31:31.731544Z"
    },
    "collapsed": false,
    "jupyter": {
     "outputs_hidden": false
    }
   },
   "outputs": [
    {
     "data": {
      "application/vnd.jupyter.widget-view+json": {
       "model_id": "2ee2ee7837c84733a25d8184c553b0ec",
       "version_major": 2,
       "version_minor": 0
      },
      "text/plain": [
       "interactive(children=(FloatSlider(value=1.28, description='kappa', max=3.84, min=-1.28), IntSlider(value=2, de…"
      ]
     },
     "metadata": {},
     "output_type": "display_data"
    },
    {
     "data": {
      "application/vnd.jupyter.widget-view+json": {
       "model_id": "3d683e871b054906867f5162ac222f0b",
       "version_major": 2,
       "version_minor": 0
      },
      "text/plain": [
       "Output()"
      ]
     },
     "metadata": {},
     "output_type": "display_data"
    }
   ],
   "source": [
    "output = ipywidgets.Output()\n",
    "\n",
    "def parcel(kappa, updraft_m_s):\n",
    "    with output:\n",
    "        IPython.display.clear_output(wait=True)\n",
    "        \n",
    "        parameters = {\n",
    "            'updraft':  updraft_m_s * si.m / si.s,\n",
    "            'kappa': kappa,\n",
    "            'total_aerosol_number': 1e6,\n",
    "            'lognormal_geometric_stdev': 1.2,\n",
    "            'lognormal_median_radius': .05 * si.um,\n",
    "            'mass_of_dry_air': 1 * si.kg,\n",
    "        }\n",
    "                \n",
    "        parameters['sampled_spectrum'] = sample_spectrum(parameters)\n",
    "        integration_result_with_units = integrate(parameters)\n",
    "        plot(integration_result_with_units)\n",
    "        \n",
    "        pyplot.show()\n",
    "\n",
    "ipywidgets.interact(parcel, kappa=1.28, updraft_m_s=2)\n",
    "IPython.display.display(output)\n",
    "\n",
    "# TODO: plot spectrum (fig 1 in Jensen & Nugent): analytic curve + sampled spectrum"
   ]
  },
  {
   "cell_type": "code",
   "execution_count": null,
   "id": "3d4580518451d81d",
   "metadata": {
    "collapsed": false,
    "jupyter": {
     "outputs_hidden": false
    }
   },
   "outputs": [],
   "source": []
  },
  {
   "cell_type": "code",
   "execution_count": null,
   "id": "53657b1f-3868-4f9b-a0e3-181dc6fcba45",
   "metadata": {},
   "outputs": [],
   "source": []
  }
 ],
 "metadata": {
  "kernelspec": {
   "display_name": "Python 3 (ipykernel)",
   "language": "python",
   "name": "python3"
  },
  "language_info": {
   "codemirror_mode": {
    "name": "ipython",
    "version": 3
   },
   "file_extension": ".py",
   "mimetype": "text/x-python",
   "name": "python",
   "nbconvert_exporter": "python",
   "pygments_lexer": "ipython3",
   "version": "3.9.6"
  }
 },
 "nbformat": 4,
 "nbformat_minor": 5
}
