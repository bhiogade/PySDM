{
 "cells": [
  {
   "cell_type": "markdown",
   "id": "83f42e3d-021e-4195-9f93-400c56329fc5",
   "metadata": {},
   "source": [
    "#### based on Figs. 4 from Abdul-Razzak and Ghan 2000 (JGR: Atmos.)  \"_A parameterization of aerosol activation: 2. Multiple aerosol types_\"\n",
    "\n",
    "An example of kinetic limitations of growth for large aerosols\n",
    "\n",
    "http://doi.wiley.com/10.1029/1999JD901161"
   ]
  },
  {
   "cell_type": "code",
   "execution_count": 4,
   "id": "901f0a37-3281-4546-9f38-6d6d778fac17",
   "metadata": {
    "ExecuteTime": {
     "end_time": "2024-01-30T12:48:11.579542Z",
     "start_time": "2024-01-30T12:48:11.556259Z"
    }
   },
   "outputs": [
    {
     "ename": "ModuleNotFoundError",
     "evalue": "No module named 'PySDM_examples'",
     "output_type": "error",
     "traceback": [
      "\u001B[0;31m---------------------------------------------------------------------------\u001B[0m",
      "\u001B[0;31mModuleNotFoundError\u001B[0m                       Traceback (most recent call last)",
      "Cell \u001B[0;32mIn[4], line 6\u001B[0m\n\u001B[1;32m      3\u001B[0m \u001B[38;5;28;01mfrom\u001B[39;00m \u001B[38;5;21;01mopen_atmos_jupyter_utils\u001B[39;00m \u001B[38;5;28;01mimport\u001B[39;00m show_plot\n\u001B[1;32m      4\u001B[0m \u001B[38;5;28;01mfrom\u001B[39;00m \u001B[38;5;21;01mPySDM\u001B[39;00m\u001B[38;5;21;01m.\u001B[39;00m\u001B[38;5;21;01mphysics\u001B[39;00m \u001B[38;5;28;01mimport\u001B[39;00m si\n\u001B[0;32m----> 6\u001B[0m \u001B[38;5;28;01mfrom\u001B[39;00m \u001B[38;5;21;01mPySDM_examples\u001B[39;00m\u001B[38;5;21;01m.\u001B[39;00m\u001B[38;5;21;01mAbdul_Razzak_Ghan_2000\u001B[39;00m\u001B[38;5;21;01m.\u001B[39;00m\u001B[38;5;21;01mrun_ARG_parcel\u001B[39;00m \u001B[38;5;28;01mimport\u001B[39;00m run_parcel\n\u001B[1;32m      7\u001B[0m \u001B[38;5;28;01mfrom\u001B[39;00m \u001B[38;5;21;01mPySDM_examples\u001B[39;00m\u001B[38;5;21;01m.\u001B[39;00m\u001B[38;5;21;01mAbdul_Razzak_Ghan_2000\u001B[39;00m\u001B[38;5;21;01m.\u001B[39;00m\u001B[38;5;21;01mdata_from_ARG2000_paper\u001B[39;00m \u001B[38;5;28;01mimport\u001B[39;00m (\n\u001B[1;32m      8\u001B[0m     Fig4a_rad2_obs, Fig4a_AF_obs, Fig4a_rad2_param, Fig4a_AF_param,\n\u001B[1;32m      9\u001B[0m     Fig4b_rad2_obs, Fig4b_AF_obs, Fig4b_rad2_param, Fig4b_AF_param\n\u001B[1;32m     10\u001B[0m )\n\u001B[1;32m     11\u001B[0m n_sd_per_mode \u001B[38;5;241m=\u001B[39m \u001B[38;5;241m20\u001B[39m\n",
      "\u001B[0;31mModuleNotFoundError\u001B[0m: No module named 'PySDM_examples'"
     ]
    }
   ],
   "source": [
    "import numpy as np\n",
    "from matplotlib import pyplot\n",
    "from open_atmos_jupyter_utils import show_plot\n",
    "from PySDM.physics import si\n",
    "\n",
    "from PySDM_examples.Abdul_Razzak_Ghan_2000.run_ARG_parcel import run_parcel\n",
    "from PySDM_examples.Abdul_Razzak_Ghan_2000.data_from_ARG2000_paper import (\n",
    "    Fig4a_rad2_obs, Fig4a_AF_obs, Fig4a_rad2_param, Fig4a_AF_param,\n",
    "    Fig4b_rad2_obs, Fig4b_AF_obs, Fig4b_rad2_param, Fig4b_AF_param\n",
    ")\n",
    "n_sd_per_mode = 20"
   ]
  },
  {
   "cell_type": "code",
   "execution_count": 5,
   "id": "0d5e7bbc-778a-4c11-bd9a-9a0ae91fe87c",
   "metadata": {
    "ExecuteTime": {
     "end_time": "2024-01-30T12:48:12.900211Z",
     "start_time": "2024-01-30T12:48:12.868853Z"
    }
   },
   "outputs": [
    {
     "ename": "NameError",
     "evalue": "name 'run_parcel' is not defined",
     "output_type": "error",
     "traceback": [
      "\u001B[0;31m---------------------------------------------------------------------------\u001B[0m",
      "\u001B[0;31mNameError\u001B[0m                                 Traceback (most recent call last)",
      "Cell \u001B[0;32mIn[5], line 11\u001B[0m\n\u001B[1;32m      8\u001B[0m sol2 \u001B[38;5;241m=\u001B[39m \u001B[38;5;241m1\u001B[39m \u001B[38;5;66;03m# 100% ammonium sulfate\u001B[39;00m\n\u001B[1;32m     10\u001B[0m \u001B[38;5;28;01mfor\u001B[39;00m i,rad2i \u001B[38;5;129;01min\u001B[39;00m \u001B[38;5;28menumerate\u001B[39m(rad2):\n\u001B[0;32m---> 11\u001B[0m     output \u001B[38;5;241m=\u001B[39m \u001B[43mrun_parcel\u001B[49m(w, sol2, N2, rad2i, n_sd_per_mode)\n\u001B[1;32m     12\u001B[0m     AF_S[:,i] \u001B[38;5;241m=\u001B[39m output\u001B[38;5;241m.\u001B[39mactivated_fraction_S\n\u001B[1;32m     13\u001B[0m     AF_V[:,i] \u001B[38;5;241m=\u001B[39m output\u001B[38;5;241m.\u001B[39mactivated_fraction_V\n",
      "\u001B[0;31mNameError\u001B[0m: name 'run_parcel' is not defined"
     ]
    }
   ],
   "source": [
    "rad2 = np.geomspace(10,500,5) * si.nm\n",
    "AF_S = np.zeros((2,len(rad2)))\n",
    "AF_V = np.zeros((2,len(rad2)))\n",
    "AFerror = np.zeros(len(rad2))\n",
    "\n",
    "w = 0.5 * si.m / si.s\n",
    "N2 = 100 / si.cm**3\n",
    "sol2 = 1 # 100% ammonium sulfate\n",
    "\n",
    "for i,rad2i in enumerate(rad2):\n",
    "    output = run_parcel(w, sol2, N2, rad2i, n_sd_per_mode)\n",
    "    AF_S[:,i] = output.activated_fraction_S\n",
    "    AF_V[:,i] = output.activated_fraction_V\n",
    "    AFerror[i] = output.error[0]\n",
    "\n",
    "fig, axes = pyplot.subplots(2, 1, sharex=True, figsize=(6,6))\n",
    "axes[0].plot(np.asarray(Fig4a_rad2_obs)*1e3, Fig4a_AF_obs, \"ko\", label=\"ARG 2000 data\")\n",
    "axes[0].plot(np.asarray(Fig4a_rad2_param)*1e3, Fig4a_AF_param, \"k-\", label=\"ARG 2000 param\")\n",
    "axes[1].plot(np.asarray(Fig4b_rad2_obs)*1e3, Fig4b_AF_obs, \"ko\")\n",
    "axes[1].plot(np.asarray(Fig4b_rad2_param)*1e3, Fig4b_AF_param, \"k-\", label=\"ARG 2000 param\")\n",
    "\n",
    "for i, ax in enumerate(axes):\n",
    "    ax.errorbar(rad2 / si.nm, AF_S[i,:], yerr=AFerror, fmt='o', capsize=4, label=\"PySDM, Scrit def\")\n",
    "    ax.errorbar(rad2 / si.nm, AF_V[i,:], yerr=AFerror, fmt='x', capsize=2, label=\"PySDM, Vcrit def\")\n",
    "    ax.set_ylabel(f'Mode {i+1} Activated Fraction')\n",
    "    ax.set_ylim([0,1.1])\n",
    "    ax.set_xscale('log')\n",
    "    ax.set_xlim([10,1000])\n",
    "\n",
    "pyplot.xlabel('Mode 2 Radius (nm)')\n",
    "axes[0].legend(loc=\"best\")\n",
    "show_plot(\"fig_4.pdf\")"
   ]
  },
  {
   "cell_type": "markdown",
   "id": "ddb9014d-61a2-4318-af7e-02c41bf70d5a",
   "metadata": {},
   "source": [
    "## Kinetic limitations\n",
    "\n",
    "Differences in activated fraction as diagnosed from peak supersaturation (compared to critical supersaturations) vs. droplet volumes (compared to critical volumes) is evident in this example for the cases where Mode 2 has a very large mean radius. Here we can see the kinetic limitations of activation where the large droplets take finite time to come into equilibrium with the ambient humidity and grow past their critical sizes. This is explored more in the figures below which show first the profile of ambient humidity compared to the critical supersaturation of each droplet, and then profiles of the ratio of the actual droplet volume to the critical volume. "
   ]
  },
  {
   "cell_type": "code",
   "execution_count": null,
   "id": "27643224-85ba-4b96-8150-41389b7a3bdc",
   "metadata": {
    "ExecuteTime": {
     "start_time": "2024-01-30T12:47:57.418719Z"
    }
   },
   "outputs": [],
   "source": [
    "for drop_id, Scrit in enumerate(output.attributes['critical supersaturation']):\n",
    "    if drop_id < n_sd_per_mode:\n",
    "        pyplot.plot(\n",
    "            np.asarray(Scrit) - 1,\n",
    "            output.profile['z'],\n",
    "            color='magenta',\n",
    "            label=\"Scrit mode 1\" if drop_id == 0 else \"\"\n",
    "        )\n",
    "    else:\n",
    "        pyplot.plot(\n",
    "            np.asarray(Scrit) - 1,\n",
    "            output.profile['z'],\n",
    "            color='blue',\n",
    "            label=\"Scrit mode 2\" if drop_id == n_sd_per_mode else \"\"\n",
    "        )\n",
    "    pyplot.xlabel('Scrit [%]')\n",
    "    pyplot.ylabel('z [m]')\n",
    "\n",
    "pyplot.plot(np.asarray(output.profile['RH'])-1, output.profile['z'], 'k', lw=3, label='ambient RH')\n",
    "pyplot.xscale('log')\n",
    "pyplot.legend(loc='lower right')\n",
    "pyplot.grid()\n",
    "show_plot(\"RH_profile.pdf\")\n",
    "\n",
    "from PySDM import Formulae\n",
    "frm = Formulae()\n",
    "for drop_id, Vcrit in enumerate(output.attributes['critical volume']):\n",
    "    volume = np.asarray(output.attributes['volume'][drop_id])\n",
    "    if drop_id < n_sd_per_mode:\n",
    "        pyplot.plot(\n",
    "            frm.trivia.radius(volume=volume) / frm.trivia.radius(volume=np.asarray(Vcrit)),\n",
    "            output.profile['z'],\n",
    "            color='magenta',\n",
    "            label=\"mode 1\" if drop_id == 0 else \"\"\n",
    "        )\n",
    "    else:\n",
    "        pyplot.plot(\n",
    "            frm.trivia.radius(volume=volume) / frm.trivia.radius(volume=np.asarray(Vcrit)),\n",
    "            output.profile['z'],\n",
    "            color='blue',\n",
    "            label=\"mode 2\" if drop_id == n_sd_per_mode else \"\"\n",
    "        )\n",
    "    pyplot.xlabel('Volume / Vcrit')\n",
    "    pyplot.ylabel('z [m]')\n",
    "    pyplot.axvline(1, color='k')\n",
    "\n",
    "pyplot.xscale('log')\n",
    "pyplot.legend(loc='lower right')\n",
    "pyplot.grid()\n",
    "show_plot(\"Droplet_profile.pdf\")"
   ]
  },
  {
   "cell_type": "code",
   "execution_count": null,
   "id": "107a7d56-e5a2-4c7d-8c44-c02570ed358f",
   "metadata": {},
   "outputs": [],
   "source": []
  }
 ],
 "metadata": {
  "kernelspec": {
   "display_name": "Python 3 (ipykernel)",
   "language": "python",
   "name": "python3"
  },
  "language_info": {
   "codemirror_mode": {
    "name": "ipython",
    "version": 3
   },
   "file_extension": ".py",
   "mimetype": "text/x-python",
   "name": "python",
   "nbconvert_exporter": "python",
   "pygments_lexer": "ipython3",
   "version": "3.9.7"
  }
 },
 "nbformat": 4,
 "nbformat_minor": 5
}
