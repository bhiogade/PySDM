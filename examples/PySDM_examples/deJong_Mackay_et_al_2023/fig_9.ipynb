{
 "cells": [
  {
   "cell_type": "markdown",
   "metadata": {},
   "source": [
    "[![View notebook](https://img.shields.io/static/v1?label=render%20on&logo=github&color=87ce3e&message=GitHub)](https://github.com/open-atmos/PySDM/blob/main/examples/PySDM_examples/deJong_Mackay_et_al_2023/fig_9.ipynb)\n",
    "[![Binder](https://mybinder.org/badge_logo.svg)](https://mybinder.org/v2/gh/open-atmos/PySDM.git/main?urlpath=lab/tree/examples/PySDM_examples/deJong_Mackay_et_al_2023/fig_9.ipynb)    \n",
    "[![Open In Colab](https://colab.research.google.com/assets/colab-badge.svg)](https://colab.research.google.com/github/open-atmos/PySDM/blob/main/examples/PySDM_examples/deJong_Mackay_et_al_2023/fig_9.ipynb)"
   ]
  },
  {
   "cell_type": "markdown",
   "metadata": {},
   "source": [
    "#### based on Fig. 10 from Straub et al. 2010 (J. Atmos. Sci. 67)  \"_Numerical Investigation of Collision-Induced Breakup of Raindrops, Part II: Parameterizations of Coalescence Efficiencies and Fragment Size Distributions_\"   \n",
    "DOI: 10.1175/2009JAS3175.1"
   ]
  },
  {
   "cell_type": "code",
   "execution_count": 1,
   "metadata": {
    "ExecuteTime": {
     "end_time": "2024-01-30T13:32:30.247987Z",
     "start_time": "2024-01-30T13:32:27.870749Z"
    }
   },
   "outputs": [
    {
     "name": "stderr",
     "output_type": "stream",
     "text": [
      "/Users/sanketbhiogade/PycharmProjects/PySDM/PySDM/backends/impl_numba/conf.py:18: UserWarning: Disabling Numba threading due to ARM64 CPU (atomics do not work yet)\n",
      "  warnings.warn(\n"
     ]
    }
   ],
   "source": [
    "from matplotlib import pyplot\n",
    "import matplotlib\n",
    "from PySDM_examples.deJong_Mackay_et_al_2023 import run_to_steady_state, get_straub_fig10_data, get_straub_fig10_init\n",
    "from open_atmos_jupyter_utils import show_plot\n",
    "import numpy as np\n",
    "from PySDM.physics.constants import si\n",
    "import pickle as pkl\n",
    "import time\n",
    "import os"
   ]
  },
  {
   "cell_type": "code",
   "execution_count": 2,
   "metadata": {
    "ExecuteTime": {
     "end_time": "2024-01-30T13:32:30.252013Z",
     "start_time": "2024-01-30T13:32:30.247639Z"
    }
   },
   "outputs": [],
   "source": [
    "(straub_x, straub_log_y, straub_dvdlnr_ss) = get_straub_fig10_data()\n",
    "(straub_x_init, straub_y_init, straub_dvdlnr_init) = get_straub_fig10_init()"
   ]
  },
  {
   "cell_type": "code",
   "execution_count": 3,
   "metadata": {
    "ExecuteTime": {
     "end_time": "2024-01-30T13:33:08.735548Z",
     "start_time": "2024-01-30T13:32:30.273373Z"
    }
   },
   "outputs": [
    {
     "name": "stdout",
     "output_type": "stream",
     "text": [
      "Success with run #1\n",
      "Success with run #2\n",
      "Success with run #3\n",
      "Success with run #4\n",
      "Success with run #5\n",
      "Success with run #6\n",
      "Success with run #7\n",
      "Success with run #8\n",
      "Success with run #9\n",
      "Success with run #10\n",
      "ran Straub2010 for 64 superdroplets in 37.889511823654175 sec\n"
     ]
    },
    {
     "name": "stderr",
     "output_type": "stream",
     "text": [
      "/var/folders/5g/zgbtfhx51s5b7r66sgrmhwrc0000gn/T/ipykernel_20296/2325947138.py:31: MatplotlibDeprecationWarning: The get_cmap function was deprecated in Matplotlib 3.7 and will be removed two minor releases later. Use ``matplotlib.colormaps[name]`` or ``matplotlib.colormaps.get_cmap(obj)`` instead.\n",
      "  cmap = matplotlib.cm.get_cmap('viridis')\n"
     ]
    },
    {
     "ename": "AttributeError",
     "evalue": "'_process_plot_var_args' object has no attribute 'prop_cycler'",
     "output_type": "error",
     "traceback": [
      "\u001B[0;31m---------------------------------------------------------------------------\u001B[0m",
      "\u001B[0;31mAttributeError\u001B[0m                            Traceback (most recent call last)",
      "Cell \u001B[0;32mIn[3], line 37\u001B[0m\n\u001B[1;32m     33\u001B[0m dr \u001B[38;5;241m=\u001B[39m np\u001B[38;5;241m.\u001B[39mconcatenate([dr, [dr[\u001B[38;5;241m-\u001B[39m\u001B[38;5;241m1\u001B[39m]]])\n\u001B[1;32m     35\u001B[0m legend_entries \u001B[38;5;241m=\u001B[39m []\n\u001B[0;32m---> 37\u001B[0m color \u001B[38;5;241m=\u001B[39m \u001B[38;5;28mnext\u001B[39m(\u001B[43max\u001B[49m\u001B[43m[\u001B[49m\u001B[38;5;241;43m0\u001B[39;49m\u001B[43m]\u001B[49m\u001B[38;5;241;43m.\u001B[39;49m\u001B[43m_get_lines\u001B[49m\u001B[38;5;241;43m.\u001B[39;49m\u001B[43mprop_cycler\u001B[49m)[\u001B[38;5;124m'\u001B[39m\u001B[38;5;124mcolor\u001B[39m\u001B[38;5;124m'\u001B[39m] \u001B[38;5;66;03m# pylint: disable=protected-access\u001B[39;00m\n\u001B[1;32m     38\u001B[0m \u001B[38;5;28;01mfor\u001B[39;00m (j, step) \u001B[38;5;129;01min\u001B[39;00m \u001B[38;5;28menumerate\u001B[39m(steps):  \u001B[38;5;66;03m# pylint: disable=protected-access\u001B[39;00m\n\u001B[1;32m     39\u001B[0m     \u001B[38;5;28;01mif\u001B[39;00m step \u001B[38;5;241m!=\u001B[39m \u001B[38;5;241m0\u001B[39m:\n",
      "\u001B[0;31mAttributeError\u001B[0m: '_process_plot_var_args' object has no attribute 'prop_cycler'"
     ]
    },
    {
     "data": {
      "text/plain": "<Figure size 1000x400 with 2 Axes>",
      "image/png": "[encoded data removed]"
     },
     "metadata": {},
     "output_type": "display_data"
    },
    {
     "data": {
      "text/plain": "<Figure size 1000x400 with 2 Axes>",
      "image/png": "[encoded data removed]"
     },
     "metadata": {},
     "output_type": "display_data"
    }
   ],
   "source": [
    "run_sims = True\n",
    "n_sds = [2**6, 2**10, 2**14] if 'CI' not in os.environ else [32]\n",
    "steps = [0, 7200] \n",
    "nruns = 10 if 'CI' not in os.environ else 1\n",
    "\n",
    "(fig, ax) = pyplot.subplots(nrows=1, ncols=2, figsize=(10,4))\n",
    "(fig2, ax2) = pyplot.subplots(nrows=1, ncols=2, figsize=(10,4))      \n",
    "\n",
    "# Obtain data\n",
    "parameterization = 'Straub2010'\n",
    "for n_sd in n_sds:\n",
    "    if run_sims:\n",
    "        t1 = time.time()\n",
    "        run_to_steady_state(parameterization, n_sd, steps, nruns, dt=1*si.s)\n",
    "        t2 = time.time()\n",
    "        print('ran '+parameterization+' for '+str(n_sd)+' superdroplets in '+str(t2 - t1)+' sec')\n",
    "    data_filename = 'steadystate_' + parameterization + '_' + str(n_sd) + 'sd.pkl'\n",
    "    with open(data_filename, 'rb') as handle:\n",
    "        (x, y_ensemble, y2_ensemble, rates) = pkl.load(handle)\n",
    "    \n",
    "    # statistics\n",
    "    # mass density\n",
    "    y_mean = np.nanmean(y_ensemble, axis=0)\n",
    "    y_std = np.nanstd(y_ensemble, axis=0)\n",
    "\n",
    "    # number density\n",
    "    y2_mean = np.nanmean(y2_ensemble, axis=0)\n",
    "    y2_std = np.nanstd(y2_ensemble, axis=0)\n",
    "\n",
    "    # Plotting\n",
    "    cmap = matplotlib.cm.get_cmap('viridis')\n",
    "    dr = np.diff(x) * si.um\n",
    "    dr = np.concatenate([dr, [dr[-1]]])\n",
    "\n",
    "    legend_entries = []\n",
    "\n",
    "    color = next(ax[0]._get_lines.prop_cycler)['color'] # pylint: disable=protected-access\n",
    "    for (j, step) in enumerate(steps):  # pylint: disable=protected-access\n",
    "        if step != 0:\n",
    "            lbl = str(n_sd) + ' SDs'\n",
    "            ax[1].step(2*x*si.mm, y2_mean[j]/2/dr * si.mm,linestyle='-',color=color,\n",
    "                label= lbl if lbl not in pyplot.gca().get_legend_handles_labels()[1] else '')\n",
    "            ax[1].fill_between(2*x*si.mm, y2_mean[j]/2/dr * si.mm - y2_std[j]/2/dr * si.mm, \n",
    "                               y2_mean[j]/2/dr * si.mm + y2_std[j]/2/dr * si.mm, color=color, alpha=0.2)\n",
    "            \n",
    "            ax2[1].step(2*x*si.mm, y_mean[j],linestyle='-',color=color,\n",
    "                label= lbl if lbl not in pyplot.gca().get_legend_handles_labels()[1] else '')\n",
    "            ax2[1].fill_between(2*x*si.mm, y_mean[j] - y_std[j], \n",
    "                    y_mean[j] + y_std[j], color=color, alpha=0.2)\n",
    "        else:\n",
    "            lbl = str(n_sd) + ' SDs'\n",
    "            ax[0].step(2*x*si.mm, y2_mean[j]/2/dr * si.mm,linestyle='-',color=color,\n",
    "                    label= lbl if lbl not in pyplot.gca().get_legend_handles_labels()[1] else '')\n",
    "\n",
    "            ax2[0].step(2*x*si.mm, y_mean[j],linestyle='-',color=color,\n",
    "                label= lbl if lbl not in pyplot.gca().get_legend_handles_labels()[1] else '')\n",
    "            \n",
    "# Reference data\n",
    "ax[0].plot(straub_x_init/si.mm, straub_y_init, color='k', linestyle='--', label='Reference')\n",
    "ax[1].plot(straub_x/si.mm, np.power(10, straub_log_y) ,color='k',linestyle='--', label='Reference')\n",
    "\n",
    "ax2[0].plot(straub_x_init/si.mm, straub_dvdlnr_init, color='k', linestyle='--', label='Reference')\n",
    "ax2[1].plot(straub_x/si.mm, straub_dvdlnr_ss / si.mm ,color='k',linestyle='--', label='Reference')\n",
    "\n",
    "ax[0].set_yscale(\"log\")\n",
    "ax[1].set_yscale(\"log\")\n",
    "ax[0].set_xlim([0.0, 7.0])\n",
    "ax[1].set_xlim([0.0, 7.0])\n",
    "ax[0].set_ylim([4.0, 2e4])\n",
    "ax[1].set_ylim([4.0, 2e4])\n",
    "\n",
    "ax2[0].set_xscale(\"log\")\n",
    "ax2[1].set_xscale(\"log\")\n",
    "ax2[0].set_xlim([0.2, 8.0])\n",
    "ax2[1].set_xlim([0.2, 8.0])\n",
    "ax2[0].set_ylim([0.0, 2e-5])\n",
    "ax2[1].set_ylim([0.0, 2e-5])\n",
    "ax[0].set_xlabel(\"particle diameter (mm)\")\n",
    "ax[1].set_xlabel(\"particle diameter (mm)\")\n",
    "ax2[0].set_xlabel(\"particle diameter (mm)\")\n",
    "ax2[1].set_xlabel(\"particle diameter (mm)\")\n",
    "\n",
    "ax[0].set_ylabel(\"N(v) (m$^{-3}$ mm$^{-1})$\")\n",
    "ax2[0].set_ylabel(\"dv/dlnr\")\n",
    "\n",
    "ax[0].legend()\n",
    "ax[0].set_title(\"(a) Initial Condition\")\n",
    "ax[1].set_title(\"(b) Steady State\")\n",
    "show_plot('fig9_straub_fig10.pdf', fig=fig)\n",
    "show_plot('straub_dvdlnr.pdf', fig=fig2)"
   ]
  },
  {
   "cell_type": "code",
   "execution_count": null,
   "metadata": {
    "ExecuteTime": {
     "start_time": "2024-01-30T13:33:08.672542Z"
    }
   },
   "outputs": [],
   "source": []
  }
 ],
 "metadata": {
  "kernelspec": {
   "display_name": "edjPySDM",
   "language": "python",
   "name": "python3"
  },
  "language_info": {
   "codemirror_mode": {
    "name": "ipython",
    "version": 3
   },
   "file_extension": ".py",
   "mimetype": "text/x-python",
   "name": "python",
   "nbconvert_exporter": "python",
   "pygments_lexer": "ipython3",
   "version": "3.9.4 (default, Apr  9 2021, 09:32:38) \n[Clang 10.0.0 ]"
  },
  "vscode": {
   "interpreter": {
    "hash": "b43cf254c70d60c2e21a7f71ba113e70c1694742e72407132919c841d907074b"
   }
  }
 },
 "nbformat": 4,
 "nbformat_minor": 2
}
