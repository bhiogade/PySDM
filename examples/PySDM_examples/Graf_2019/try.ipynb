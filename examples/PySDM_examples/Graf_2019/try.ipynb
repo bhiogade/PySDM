{
 "cells": [
  {
   "cell_type": "code",
   "execution_count": 1,
   "id": "initial_id",
   "metadata": {
    "collapsed": true,
    "ExecuteTime": {
     "end_time": "2024-01-18T16:33:39.486555Z",
     "start_time": "2024-01-18T16:33:38.283222Z"
    }
   },
   "outputs": [
    {
     "name": "stderr",
     "output_type": "stream",
     "text": [
      "/Users/sanketbhiogade/PySDM/PySDM/backends/impl_numba/conf.py:18: UserWarning: Disabling Numba threading due to ARM64 CPU (atomics do not work yet)\n",
      "  warnings.warn(\n"
     ]
    }
   ],
   "source": [
    "from PySDM import Formulae\n",
    "from PySDM.physics import si, in_unit"
   ]
  },
  {
   "cell_type": "code",
   "outputs": [],
   "source": [
    "formulae = Formulae(\n",
    "    isotope_equilibrium_fractionation_factors='GrafEtAl2019',\n",
    "    isotope_meteoric_water_line_excess='Dansgaard1964'\n",
    ")\n",
    "const = formulae.constants\n",
    "#HoritaAndWesolowski1994 - 1.0844\n",
    "#MerlivatAndNief1967 - 1.0776\n",
    "#VanHook1968 - 1.0804"
   ],
   "metadata": {
    "collapsed": false,
    "ExecuteTime": {
     "end_time": "2024-01-19T10:37:28.737351Z",
     "start_time": "2024-01-19T10:37:28.733716Z"
    }
   },
   "id": "f35cf768270e64dc",
   "execution_count": 24
  },
  {
   "cell_type": "code",
   "outputs": [],
   "source": [
    "alphas = {   # '2H': formulae.isotope_equilibrium_fractionation_factors.alpha_l_2H,\n",
    "    '18O_l': formulae.isotope_equilibrium_fractionation_factors.alpha_l_18O,\n",
    "    '2H_l': formulae.isotope_equilibrium_fractionation_factors.alpha_l_2H,\n",
    "  #  '18Oi': formulae.isotope_equilibrium_fractionation_factors.alpha_i_H2_18O\n",
    "}\n",
    "excess_d = formulae.isotope_meteoric_water_line_excess.excess_d"
   ],
   "metadata": {
    "collapsed": false,
    "ExecuteTime": {
     "end_time": "2024-01-19T10:37:29.318588Z",
     "start_time": "2024-01-19T10:37:29.314216Z"
    }
   },
   "id": "e54f7b692a6e1b14",
   "execution_count": 25
  },
  {
   "cell_type": "code",
   "outputs": [
    {
     "ename": "AttributeError",
     "evalue": "'types.SimpleNamespace' object has no attribute 'd18O_of_d2H'",
     "output_type": "error",
     "traceback": [
      "\u001B[0;31m---------------------------------------------------------------------------\u001B[0m",
      "\u001B[0;31mAttributeError\u001B[0m                            Traceback (most recent call last)",
      "Cell \u001B[0;32mIn[11], line 1\u001B[0m\n\u001B[0;32m----> 1\u001B[0m d \u001B[38;5;241m=\u001B[39m {\u001B[38;5;124m'\u001B[39m\u001B[38;5;124mde\u001B[39m\u001B[38;5;124m'\u001B[39m:\u001B[43mformulae\u001B[49m\u001B[38;5;241;43m.\u001B[39;49m\u001B[43misotope_equilibrium_fractionation_factors\u001B[49m\u001B[38;5;241;43m.\u001B[39;49m\u001B[43md18O_of_d2H\u001B[49m}\n",
      "\u001B[0;31mAttributeError\u001B[0m: 'types.SimpleNamespace' object has no attribute 'd18O_of_d2H'"
     ]
    }
   ],
   "source": [
    "d={formulae.isotope_meteoric_water_line_excess.excess_d}\n"
   ],
   "metadata": {
    "collapsed": false,
    "ExecuteTime": {
     "end_time": "2024-01-18T16:49:51.343309Z",
     "start_time": "2024-01-18T16:49:51.299984Z"
    }
   },
   "id": "2c1c9ca3679bab3e",
   "execution_count": 11
  },
  {
   "cell_type": "code",
   "outputs": [
    {
     "name": "stdout",
     "output_type": "stream",
     "text": [
      "1.0844\n",
      "1.0098\n"
     ]
    }
   ],
   "source": [
    "print(f\"{alphas['2H_l'](20 * si.K + const.T0):.4f}\")\n",
    "print(f\"{alphas['18O_l'](20 * si.K + const.T0):.4f}\")\n"
   ],
   "metadata": {
    "collapsed": false,
    "ExecuteTime": {
     "end_time": "2024-01-18T16:05:02.698682Z",
     "start_time": "2024-01-18T16:05:02.692870Z"
    }
   },
   "id": "5b53654812c80442",
   "execution_count": 14
  },
  {
   "cell_type": "code",
   "outputs": [],
   "source": [
    "alpha_20C_2H=alphas['2H_l'](20 * si.K + const.T0)\n",
    "#assert f\"{alpha_20C_2H:.4f}\" == \"1.0850\""
   ],
   "metadata": {
    "collapsed": false,
    "ExecuteTime": {
     "end_time": "2024-01-18T16:05:02.704578Z",
     "start_time": "2024-01-18T16:05:02.697949Z"
    }
   },
   "id": "1fdda832f45ec068",
   "execution_count": 15
  },
  {
   "cell_type": "code",
   "outputs": [
    {
     "name": "stdout",
     "output_type": "stream",
     "text": [
      "TC=20C in_unit(dHv, const.PER_MILLE)=0.0‰ in_unit(diff_l_v_H, const.PER_MILLE)=84.4‰\n",
      "TC=20C in_unit(dHv, const.PER_MILLE)=-200.0‰ in_unit(diff_l_v_H, const.PER_MILLE)=67.5‰\n",
      "TC=0C in_unit(dHv, const.PER_MILLE)=0.0‰ in_unit(diff_l_v_H, const.PER_MILLE)=111.8‰\n",
      "TC=0C in_unit(dHv, const.PER_MILLE)=-200.0‰ in_unit(diff_l_v_H, const.PER_MILLE)=89.4‰\n",
      "TC=20C in_unit(dOv, const.PER_MILLE)=0.0‰ in_unit(diff_l_v_O, const.PER_MILLE)=-930.9‰\n",
      "d={'de': CPUDispatcher(<function _.alpha_l_2H at 0x132b17e50>)} 7536.7\n",
      "TC=20C in_unit(dOv, const.PER_MILLE)=-200.0‰ in_unit(diff_l_v_O, const.PER_MILLE)=-730.9‰\n",
      "d={'de': CPUDispatcher(<function _.alpha_l_2H at 0x132b17e50>)} 5936.7\n",
      "TC=0C in_unit(dOv, const.PER_MILLE)=0.0‰ in_unit(diff_l_v_O, const.PER_MILLE)=-930.9‰\n",
      "d={'de': CPUDispatcher(<function _.alpha_l_2H at 0x132b17e50>)} 7536.7\n",
      "TC=0C in_unit(dOv, const.PER_MILLE)=-200.0‰ in_unit(diff_l_v_O, const.PER_MILLE)=-730.9‰\n",
      "d={'de': CPUDispatcher(<function _.alpha_l_2H at 0x132b17e50>)} 5936.7\n"
     ]
    }
   ],
   "source": [
    "#Calculated difference in isotopic composition of liquid (Δl−v) for δ2H in equilibrium with a vapour of different isotopic composition.\n",
    "for TC in (20, 0):\n",
    "     for dHv in (0 * const.PER_MILLE, -200 * const.PER_MILLE):\n",
    "         Rv = formulae.trivia.isotopic_delta_2_ratio(\n",
    "             delta=dHv,\n",
    "             reference_ratio=const.VSMOW_R_2H\n",
    "         )\n",
    "         Rl = alphas['2H_l'](TC * si.K + const.T0) * Rv\n",
    "        # Rl = Rv * 1.0850\n",
    "         dHl = formulae.trivia.isotopic_ratio_2_delta(\n",
    "             ratio=Rl,\n",
    "             reference_ratio=const.VSMOW_R_2H\n",
    "         )\n",
    "         diff_l_v_H = dHl - dHv\n",
    "         print(f\"{TC=}C {in_unit(dHv, const.PER_MILLE)=:.1f}‰ {in_unit(diff_l_v_H, const.PER_MILLE)=:.1f}‰\")\n",
    "#Calculated difference in isotopic composition of liquid (Δl−v) for δ180 in equilibrium with a vapour of different isotopic composition.\n",
    "for TC in (20, 0):\n",
    "     for dOv in (0 * const.PER_MILLE, -200 * const.PER_MILLE):\n",
    "         RvO = formulae.trivia.isotopic_delta_2_ratio(\n",
    "             delta=dOv,\n",
    "             reference_ratio=const.VSMOW_R_18O\n",
    "         )\n",
    "         RlO = alphas['18O_l'](TC * si.K + const.T0) * RvO\n",
    "        # Rl = Rv * 1.0850\n",
    "         dOl = formulae.trivia.isotopic_ratio_2_delta(\n",
    "             ratio=Rl,\n",
    "             reference_ratio=const.VSMOW_R_18O\n",
    "         )\n",
    "         diff_l_v_O = dOl - dOv\n",
    "         print(f\"{TC=}C {in_unit(dOv, const.PER_MILLE)=:.1f}‰ {in_unit(diff_l_v_O, const.PER_MILLE)=:.1f}‰\")\n",
    "         \n",
    "         aa= (diff_l_v_H)-8*(diff_l_v_O)\n",
    "         print(f\"{d=} {in_unit(aa,const.PER_MILLE):.1f}\")\n",
    "         "
   ],
   "metadata": {
    "collapsed": false,
    "ExecuteTime": {
     "end_time": "2024-01-18T16:55:01.229527Z",
     "start_time": "2024-01-18T16:55:01.222034Z"
    }
   },
   "id": "408ecd7877f0204d",
   "execution_count": 13
  },
  {
   "cell_type": "code",
   "outputs": [
    {
     "ename": "TypeError",
     "evalue": "'float' object is not iterable",
     "output_type": "error",
     "traceback": [
      "\u001B[0;31m---------------------------------------------------------------------------\u001B[0m",
      "\u001B[0;31mTypeError\u001B[0m                                 Traceback (most recent call last)",
      "Cell \u001B[0;32mIn[26], line 3\u001B[0m\n\u001B[1;32m      1\u001B[0m \u001B[38;5;66;03m#Calculated difference in isotopic composition of liquid (Δl−v) for δ2H in equilibrium with a vapour of different isotopic composition.\u001B[39;00m\n\u001B[1;32m      2\u001B[0m \u001B[38;5;28;01mfor\u001B[39;00m TC \u001B[38;5;129;01min\u001B[39;00m (\u001B[38;5;241m20\u001B[39m, \u001B[38;5;241m0\u001B[39m):\n\u001B[0;32m----> 3\u001B[0m      \u001B[38;5;28;01mfor\u001B[39;00m dHv \u001B[38;5;129;01min\u001B[39;00m (\u001B[38;5;241m0\u001B[39m \u001B[38;5;241m*\u001B[39m const\u001B[38;5;241m.\u001B[39mPER_MILLE):\n\u001B[1;32m      4\u001B[0m          Rv \u001B[38;5;241m=\u001B[39m formulae\u001B[38;5;241m.\u001B[39mtrivia\u001B[38;5;241m.\u001B[39misotopic_delta_2_ratio(\n\u001B[1;32m      5\u001B[0m              delta\u001B[38;5;241m=\u001B[39mdHv,\n\u001B[1;32m      6\u001B[0m              reference_ratio\u001B[38;5;241m=\u001B[39mconst\u001B[38;5;241m.\u001B[39mVSMOW_R_2H\n\u001B[1;32m      7\u001B[0m          )\n\u001B[1;32m      8\u001B[0m          Rl \u001B[38;5;241m=\u001B[39m alphas[\u001B[38;5;124m'\u001B[39m\u001B[38;5;124m2H_l\u001B[39m\u001B[38;5;124m'\u001B[39m](TC \u001B[38;5;241m*\u001B[39m si\u001B[38;5;241m.\u001B[39mK \u001B[38;5;241m+\u001B[39m const\u001B[38;5;241m.\u001B[39mT0) \u001B[38;5;241m*\u001B[39m Rv\n",
      "\u001B[0;31mTypeError\u001B[0m: 'float' object is not iterable"
     ]
    }
   ],
   "source": [
    "#Calculated difference in isotopic composition of liquid (Δl−v) for δ2H in equilibrium with a vapour of different isotopic composition.\n",
    "for TC in (20, 0):\n",
    "     for dHv in (0 * const.PER_MILLE, -200 * const.PER_MILLE):\n",
    "         Rv = formulae.trivia.isotopic_delta_2_ratio(\n",
    "             delta=dHv,\n",
    "             reference_ratio=const.VSMOW_R_2H\n",
    "         )\n",
    "         Rl = alphas['2H_l'](TC * si.K + const.T0) * Rv\n",
    "        # Rl = Rv * 1.0850\n",
    "         dHl = formulae.trivia.isotopic_ratio_2_delta(\n",
    "             ratio=Rl,\n",
    "             reference_ratio=const.VSMOW_R_2H\n",
    "         )\n",
    "         diff_l_v_H = dHl - dHv\n",
    "         print(f\"{TC=}C {in_unit(dHv, const.PER_MILLE)=:.1f}‰ {in_unit(diff_l_v_H, const.PER_MILLE)=:.1f}‰\")"
   ],
   "metadata": {
    "collapsed": false,
    "ExecuteTime": {
     "end_time": "2024-01-18T16:17:58.475852Z",
     "start_time": "2024-01-18T16:17:58.460675Z"
    }
   },
   "id": "beb224bff38f3c30",
   "execution_count": 26
  },
  {
   "cell_type": "code",
   "outputs": [],
   "source": [
    "alphas = {\n",
    "    '18O_l': formulae.isotope_equilibrium_fractionation_factors.alpha_l_18O,\n",
    "    '2H_l': formulae.isotope_equilibrium_fractionation_factors.alpha_l_2H,\n",
    "    '18O_s': formulae.isotope_equilibrium_fractionation_factors.alpha_i_H2_18O,\n",
    "    '2H_s': formulae.isotope_equilibrium_fractionation_factors.alpha_i_HDO\n",
    "}"
   ],
   "metadata": {
    "collapsed": false,
    "ExecuteTime": {
     "end_time": "2024-01-19T10:46:59.852522Z",
     "start_time": "2024-01-19T10:46:59.844744Z"
    }
   },
   "id": "ab6eb3c67fd1b317",
   "execution_count": 32
  },
  {
   "cell_type": "code",
   "outputs": [],
   "source": [
    "table_data = {}\n",
    "for TC in (20, 0):\n",
    "    table_data[TC] = {}\n",
    "    for phase in ('s', 'l') if TC==0 else ('l',):\n",
    "        table_data[TC][f'{phase}_v'] = {}\n",
    "        for case, delta_v in (\n",
    "            ('A', {'18O': -10 * const.PER_MILLE, '2H': -80 * const.PER_MILLE,'D': 0 * const.PER_MILLE}),\n",
    "            ('B', {'18O': -25 * const.PER_MILLE, '2H': -200 * const.PER_MILLE, 'D': 0 * const.PER_MILLE})\n",
    "        ):\n",
    "            table_data[TC][f'{phase}_v'][case] = {}\n",
    "            for isotope in ('18O', '2H', 'D'):\n",
    "                reference_ratio = getattr(const, f\"VSMOW_R_{isotope}\")\n",
    "                Rv = formulae.trivia.isotopic_delta_2_ratio(\n",
    "                    delta=delta_v[isotope],\n",
    "                    reference_ratio=reference_ratio\n",
    "                )\n",
    "                Rl = alphas[f'{isotope}_{phase}'](TC * si.K + const.T0) * Rv\n",
    "                delta_l = formulae.trivia.isotopic_ratio_2_delta(\n",
    "                    ratio=Rl,\n",
    "                    reference_ratio=reference_ratio\n",
    "                )\n",
    "                table_data[TC][f'{phase}_v'][case][f'delta_{isotope}'] = delta_l - delta_v[isotope]\n",
    "                 #print(f\"{isotope}: {TC=}C {in_unit(delta_v[isotope], const.PER_MILLE)=:.1f}‰ {in_unit(diff_l_v, const.PER_MILLE)=:.1f}‰\")"
   ],
   "metadata": {
    "collapsed": false,
    "ExecuteTime": {
     "end_time": "2024-01-18T21:59:41.545203Z",
     "start_time": "2024-01-18T21:59:41.540669Z"
    }
   },
   "id": "d90236196fb87f1c",
   "execution_count": 20
  },
  {
   "cell_type": "code",
   "outputs": [
    {
     "name": "stdout",
     "output_type": "stream",
     "text": [
      "{20: {'l_v': {'A': {'delta_18O': 0.009680248974521124, 'delta_2H': 0.07760689610977393}, 'B': {'delta_18O': 0.009533578535513489, 'delta_2H': 0.06748425748675985}}}, 0: {'s_v': {'A': {'delta_18O': 0.015081014756553648, 'delta_2H': 0.12126636645164794}, 'B': {'delta_18O': 0.01485251453296952, 'delta_2H': 0.10544901430578074}}, 'l_v': {'A': {'delta_18O': 0.011699091762020766, 'delta_2H': 0.10284930834224741}, 'B': {'delta_18O': 0.011521832795929755, 'delta_2H': 0.08943418116717178}}}}\n"
     ]
    }
   ],
   "source": [
    "print(table_data)\n",
    "# TODO: display(HTML(table)) as in https://github.com/open-atmos/PyMPDATA/blob/main/examples/PyMPDATA_examples/Arabas_and_Farhat_2020/tab_1.ipynb"
   ],
   "metadata": {
    "collapsed": false,
    "ExecuteTime": {
     "end_time": "2024-01-18T22:00:05.347824Z",
     "start_time": "2024-01-18T22:00:05.340094Z"
    }
   },
   "id": "b633cdb0c4ffb8fd",
   "execution_count": 21
  },
  {
   "cell_type": "code",
   "outputs": [],
   "source": [
    "table_data = {}\n",
    "for TC in (20, 0):\n",
    "    table_data[TC] = {}\n",
    "    for phase in (('s', 'l') if TC==0 else ('l',)):\n",
    "        table_data[TC][f'{phase}_v'] = {}\n",
    "        for case, delta_v in (\n",
    "            ('A', {'18O': -10 * const.PER_MILLE, '2H': -80 * const.PER_MILLE}),\n",
    "            ('B', {'18O': -25 * const.PER_MILLE, '2H': -200 * const.PER_MILLE})\n",
    "        ):\n",
    "            case_data = table_data[TC][f'{phase}_v'][case] = {}\n",
    "            for isotope in ('18O', '2H'):\n",
    "                reference_ratio = getattr(const, f\"VSMOW_R_{isotope}\")\n",
    "                Rv = formulae.trivia.isotopic_delta_2_ratio(\n",
    "                    delta=delta_v[isotope],\n",
    "                    reference_ratio=reference_ratio\n",
    "                )\n",
    "                R_phase = alphas[f'{isotope}_{phase}'](TC * si.K + const.T0) * Rv\n",
    "                delta_phase = formulae.trivia.isotopic_ratio_2_delta(\n",
    "                    ratio=R_phase,\n",
    "                    reference_ratio=reference_ratio\n",
    "                )\n",
    "                \n",
    "                case_data[f'delta_{phase}_{isotope}'] = delta_phase\n",
    "                case_data[f'diff_{isotope}'] = delta_phase - delta_v[isotope]\n",
    "            excess_vapour = excess_d(delta_2H=delta_v['2H'], delta_18O=delta_v['18O'])\n",
    "            excess_phase = excess_d(delta_2H=case_data[f'delta_{phase}_2H'], delta_18O=case_data[f'delta_{phase}_18O'])\n",
    "            case_data[f\"diff_excess_{phase}\"] = excess_phase - excess_vapour"
   ],
   "metadata": {
    "collapsed": false,
    "ExecuteTime": {
     "end_time": "2024-01-19T10:48:56.812020Z",
     "start_time": "2024-01-19T10:48:56.801034Z"
    }
   },
   "id": "6ae7f55cb15c6a03",
   "execution_count": 35
  },
  {
   "cell_type": "code",
   "outputs": [
    {
     "name": "stdout",
     "output_type": "stream",
     "text": [
      "{20: {'l_v': {'A': {'delta_l_18O': -0.000319751025478876, 'diff_18O': 0.009680248974521124, 'delta_l_2H': -0.002393103890226067, 'diff_2H': 0.07760689610977393, 'diff_excess_l': 0.00016490431360494107}, 'B': {'delta_l_18O': -0.015466421464486513, 'diff_18O': 0.009533578535513489, 'delta_l_2H': -0.13251574251324016, 'diff_2H': 0.06748425748675985, 'diff_excess_l': -0.008784370797348062}}}, 0: {'s_v': {'A': {'delta_s_18O': 0.005081014756553648, 'diff_18O': 0.015081014756553648, 'delta_s_2H': 0.04126636645164794, 'diff_2H': 0.12126636645164794, 'diff_excess_s': 0.0006182483992187571}, 'B': {'delta_s_18O': -0.010147485467030481, 'diff_18O': 0.01485251453296952, 'delta_s_2H': -0.09455098569421927, 'diff_2H': 0.10544901430578074, 'diff_excess_s': -0.013371101957975418}}, 'l_v': {'A': {'delta_l_18O': 0.0016990917620207657, 'diff_18O': 0.011699091762020766, 'delta_l_2H': 0.02284930834224741, 'diff_2H': 0.10284930834224741, 'diff_excess_l': 0.009256574246081284}, 'B': {'delta_l_18O': -0.013478167204070246, 'diff_18O': 0.011521832795929755, 'delta_l_2H': -0.11056581883282823, 'diff_2H': 0.08943418116717178, 'diff_excess_l': -0.002740481200266265}}}}\n"
     ]
    }
   ],
   "source": [
    "print(table_data)"
   ],
   "metadata": {
    "collapsed": false,
    "ExecuteTime": {
     "end_time": "2024-01-19T10:48:56.944576Z",
     "start_time": "2024-01-19T10:48:56.939391Z"
    }
   },
   "id": "e48d0bf47d774c2b",
   "execution_count": 36
  },
  {
   "cell_type": "code",
   "outputs": [],
   "source": [
    "# # Calculated difference in isotopic composition of liquid (Δl−v) for δ2H in equilibrium with a vapour of different isotopic composition.\n",
    "for TC in (20, 0):\n",
    "     for d2Hv in (-80 * const.PER_MILLE, -200 * const.PER_MILLE):\n",
    "#         Rv = formulae.trivia.isotopic_delta_2_ratio(\n",
    "#             delta=d2Hv,\n",
    "#             reference_ratio=const.VSMOW_R_2H\n",
    "#         )\n",
    "#         Rl = alphas['2H'](TC * si.K + const.T0) * Rv\n",
    "#        # Rl = Rv * 1.0850\n",
    "#         d2Hl = formulae.trivia.isotopic_ratio_2_delta(\n",
    "#             ratio=Rl,\n",
    "#             reference_ratio=const.VSMOW_R_2H\n",
    "#         )\n",
    "#         diff_l_v = d2Hl - d2Hv\n",
    "#         print(f\"{TC=}C {in_unit(d2Hv, const.PER_MILLE)=:.1f}‰ {in_unit(diff_l_v, const.PER_MILLE)=:.1f}‰\")"
   ],
   "metadata": {
    "collapsed": false
   },
   "id": "1cf766dfa5395cc1"
  }
 ],
 "metadata": {
  "kernelspec": {
   "display_name": "Python 3",
   "language": "python",
   "name": "python3"
  },
  "language_info": {
   "codemirror_mode": {
    "name": "ipython",
    "version": 2
   },
   "file_extension": ".py",
   "mimetype": "text/x-python",
   "name": "python",
   "nbconvert_exporter": "python",
   "pygments_lexer": "ipython2",
   "version": "2.7.6"
  }
 },
 "nbformat": 4,
 "nbformat_minor": 5
}
