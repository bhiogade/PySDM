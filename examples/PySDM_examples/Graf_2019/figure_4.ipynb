{
 "cells": [
  {
   "cell_type": "markdown",
   "source": [
    "[![View notebook](https://img.shields.io/static/v1?label=render%20on&logo=github&color=87ce3e&message=GitHub)](https://github.com/open-atmos/PySDM/blob/main/examples/PySDM_examples/Graf_et_al_2019/figure_4.ipynb)\n",
    "[![Binder](https://mybinder.org/badge_logo.svg)](https://mybinder.org/v2/gh/open-atmos/PySDM.git/main?urlpath=examples/PySDM_examples/Graf_et_al_2019/figure_4.ipynb)   \n",
    "[![Open In Colab](https://colab.research.google.com/assets/colab-badge.svg)](https://colab.research.google.com/github/open-atmos/PySDM/blob/main/examples/PySDM_examples/Graf_et_al_2019/figure_4.ipynb)"
   ],
   "metadata": {
    "collapsed": false
   },
   "id": "327f2a018faf3142"
  },
  {
   "cell_type": "markdown",
   "source": [
    "based on [Graf et al. 2019](https://doi.org/10.5194/acp-19-747-2019)"
   ],
   "metadata": {
    "collapsed": false
   },
   "id": "aa160d9c48befc58"
  },
  {
   "cell_type": "code",
   "outputs": [],
   "source": [
    "import math\n",
    "import numpy as np\n",
    "\n",
    "from PySDM.physics import si\n",
    "from PySDM.environments import Parcel\n",
    "from PySDM.backends import CPU\n",
    "from PySDM import Builder, Formulae\n",
    "from PySDM.dynamics import AmbientThermodynamics, Condensation\n",
    "from PySDM.initialisation.spectra import Lognormal\n",
    "from PySDM.initialisation.sampling import spectral_sampling\n",
    "from PySDM.initialisation import equilibrate_wet_radii, discretise_multiplicities\n",
    "from PySDM import products"
   ],
   "metadata": {
    "collapsed": false
   },
   "id": "2432d43d15e97625"
  },
  {
   "cell_type": "code",
   "outputs": [],
   "source": [
    "formulae = Formulae()\n",
    "const = formulae.constants\n",
    "pvs_Celsius = formulae.saturation_vapour_pressure.pvs_Celsius\n",
    "\n",
    "RH0 = .75\n",
    "p0 = 950 * si.hPa\n",
    "T0_C = 12 * si.K\n",
    "alt_initial = 500 * si.m \n",
    "alt_final = 3500 * si.m\n",
    "\n",
    "total_displacement = alt_final - alt_initial\n",
    "initial_water_vapour_mixing_ratio = const.eps / (p0 / RH0 / pvs_Celsius(T0_C) - 1)\n",
    "\n",
    "n_sd = 1\n",
    "dt = 10 * si.s\n",
    "vertical_velocity = 2.5 * si.m / si.s"
   ],
   "metadata": {
    "collapsed": false
   },
   "id": "81d815991be0cc9"
  },
  {
   "cell_type": "code",
   "outputs": [],
   "source": [
    "env = Parcel(\n",
    "  # given in the paper\n",
    "  p0=p0,\n",
    "  T0=T0_C + const.T0,\n",
    "  initial_water_vapour_mixing_ratio=initial_water_vapour_mixing_ratio,\n",
    "  # arbitrary choices\n",
    "  w=vertical_velocity,\n",
    "  dt=dt,\n",
    "  mass_of_dry_air=1e3 * si.kg,\n",
    ")"
   ],
   "metadata": {
    "collapsed": false
   },
   "id": "dada2ae5b4083f0e"
  },
  {
   "cell_type": "code",
   "outputs": [],
   "source": [
    "builder = Builder(backend=CPU(formulae=formulae), n_sd=n_sd, environment=env)\n",
    "builder.add_dynamic(AmbientThermodynamics())\n",
    "builder.add_dynamic(Condensation())"
   ],
   "metadata": {
    "collapsed": false
   },
   "id": "47f3f883e4e67ed"
  },
  {
   "cell_type": "code",
   "outputs": [],
   "source": [
    "spectrum = Lognormal(norm_factor=1e4 / si.mg, m_mode=50 * si.nm, s_geom=1.5)\n",
    "kappa = .5 * si.dimensionless\n",
    "cloud_range = (.5 * si.um, 25 * si.um)\n",
    "output_interval = 4\n",
    "output_points = 40"
   ],
   "metadata": {
    "collapsed": false
   },
   "id": "f98070a3d550d65"
  },
  {
   "cell_type": "code",
   "outputs": [],
   "source": [
    "r_dry, specific_concentration = spectral_sampling.Logarithmic(spectrum).sample(n_sd)"
   ],
   "metadata": {
    "collapsed": false
   },
   "id": "5ec5eabc3c1d3872"
  },
  {
   "cell_type": "code",
   "outputs": [],
   "source": [
    "v_dry = formulae.trivia.volume(radius=r_dry)"
   ],
   "metadata": {
    "collapsed": false
   },
   "id": "ce639f01f48ff348"
  },
  {
   "cell_type": "code",
   "outputs": [],
   "source": [
    "r_wet = equilibrate_wet_radii(r_dry=r_dry, environment=env, kappa_times_dry_volume=kappa * v_dry)"
   ],
   "metadata": {
    "collapsed": false
   },
   "id": "28897f499330f699"
  },
  {
   "cell_type": "code",
   "outputs": [],
   "source": [
    "attributes = {\n",
    "  'multiplicity': discretise_multiplicities(specific_concentration * env.mass_of_dry_air),\n",
    "  'dry volume': v_dry,\n",
    "  'kappa times dry volume': kappa * v_dry,\n",
    "  'volume': formulae.trivia.volume(radius=r_wet)\n",
    "}"
   ],
   "metadata": {
    "collapsed": false
   },
   "id": "8cf40dfb18e7e082"
  },
  {
   "cell_type": "code",
   "outputs": [],
   "source": [
    "particulator = builder.build(\n",
    "  attributes=attributes,\n",
    "  products=(\n",
    "    products.PeakSupersaturation(name='S_max'),\n",
    "    products.ParcelDisplacement(name=\"z\"),\n",
    "    products.AmbientTemperature(name=\"T\")\n",
    "  )\n",
    ")"
   ],
   "metadata": {
    "collapsed": false
   },
   "id": "f36faa7368db791e"
  },
  {
   "cell_type": "code",
   "outputs": [],
   "source": [
    "n_steps = total_displacement / (dt * vertical_velocity)\n",
    "\n",
    "output = {name:[] for name in particulator.products}\n",
    "levels = {\n",
    "  'CB': None,\n",
    "  '0C': None\n",
    "}\n",
    "\n",
    "ONE_AND_ONLY_GRID_ELEMENT = 0\n",
    "\n",
    "for step in range(math.ceil(n_steps)):\n",
    "  particulator.run(steps=1)\n",
    "  for name, product in particulator.products.items():\n",
    "    product_buffer_reference = product.get()\n",
    "    output[name].append(product_buffer_reference[ONE_AND_ONLY_GRID_ELEMENT])\n",
    "      \n",
    "  if levels['CB'] is None and output[\"S_max\"][-1] > 0:\n",
    "    levels['CB'] = .5 * (output[\"z\"][-1] + output[\"z\"][-2])\n",
    "      \n",
    "  if levels['0C'] is None and output[\"T\"][-1] < const.T0:\n",
    "    levels['0C'] = .5 * (output['z'][-1] + output[\"z\"][-2])"
   ],
   "metadata": {
    "collapsed": false
   },
   "id": "843a224f900fb94d"
  },
  {
   "cell_type": "code",
   "outputs": [],
   "source": [
    "from matplotlib import pyplot\n",
    "\n",
    "fig, axs = pyplot.subplots(1, 1, squeeze=False)\n",
    "xy1 = axs[0,0]\n",
    "xy2 = xy1.twiny()\n",
    "\n",
    "xy1.plot(\n",
    "  (np.asarray(output['S_max']) + 1) * 100,\n",
    "  np.asarray(output['z']) + alt_initial\n",
    ")\n",
    "xy2.plot(\n",
    "  np.asarray(output['T']) - const.T0,\n",
    "  np.asarray(output['z']) + alt_initial\n",
    ")\n",
    "for level in levels.keys():\n",
    "  xy1.axhline(y=levels[level] + alt_initial, linestyle='--', color='black')\n",
    "\n",
    "xy1.set_xlim(75, 107)\n",
    "xy2.set_xlim(-10, 16)\n",
    "xy1.set_ylim(alt_initial, alt_final)\n",
    "xy1.set_xlabel(\"RH / %\")\n",
    "xy2.set_xlabel(\"T / C\")\n",
    "xy1.set_ylabel(\"z / m\")\n",
    "pyplot.show()"
   ],
   "metadata": {
    "collapsed": false
   },
   "id": "a363f02a36a714d"
  }
 ],
 "metadata": {
  "kernelspec": {
   "display_name": "Python 3",
   "language": "python",
   "name": "python3"
  },
  "language_info": {
   "codemirror_mode": {
    "name": "ipython",
    "version": 2
   },
   "file_extension": ".py",
   "mimetype": "text/x-python",
   "name": "python",
   "nbconvert_exporter": "python",
   "pygments_lexer": "ipython2",
   "version": "2.7.6"
  }
 },
 "nbformat": 4,
 "nbformat_minor": 5
}
