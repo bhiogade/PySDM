{
 "cells": [
  {
   "cell_type": "markdown",
   "source": [
    "[![View notebook](https://img.shields.io/static/v1?label=render%20on&logo=github&color=87ce3e&message=GitHub)](https://github.com/open-atmos/PySDM/blob/main/examples/PySDM_examples/Graf_et_al_2019/figure_4.ipynb)\n",
    "[![Binder](https://mybinder.org/badge_logo.svg)](https://mybinder.org/v2/gh/open-atmos/PySDM.git/main?urlpath=examples/PySDM_examples/Graf_et_al_2019/figure_4.ipynb)   \n",
    "[![Open In Colab](https://colab.research.google.com/assets/colab-badge.svg)](https://colab.research.google.com/github/open-atmos/PySDM/blob/main/examples/PySDM_examples/Graf_et_al_2019/figure_4.ipynb)"
   ],
   "metadata": {
    "collapsed": false
   },
   "id": "327f2a018faf3142"
  },
  {
   "cell_type": "markdown",
   "source": [
    "based on [Graf et al. 2019](https://doi.org/10.5194/acp-19-747-2019)"
   ],
   "metadata": {
    "collapsed": false
   },
   "id": "aa160d9c48befc58"
  },
  {
   "cell_type": "code",
   "outputs": [
    {
     "name": "stderr",
     "output_type": "stream",
     "text": [
      "/Users/sanketbhiogade/PySDM/PySDM/backends/impl_numba/conf.py:18: UserWarning: Disabling Numba threading due to ARM64 CPU (atomics do not work yet)\n",
      "  warnings.warn(\n"
     ]
    }
   ],
   "source": [
    "import math\n",
    "import numpy as np\n",
    "from PySDM.physics import si\n",
    "from PySDM.environments import Parcel\n",
    "from PySDM.backends import CPU\n",
    "from PySDM import Builder, Formulae\n",
    "from PySDM.dynamics import AmbientThermodynamics, Condensation\n",
    "from PySDM.initialisation.spectra import Lognormal\n",
    "from PySDM.initialisation.sampling import spectral_sampling\n",
    "from PySDM.initialisation import equilibrate_wet_radii, discretise_multiplicities\n",
    "from PySDM import products"
   ],
   "metadata": {
    "collapsed": false,
    "ExecuteTime": {
     "end_time": "2024-01-09T12:45:53.020321Z",
     "start_time": "2024-01-09T12:45:49.262150Z"
    }
   },
   "id": "2432d43d15e97625",
   "execution_count": 1
  },
  {
   "cell_type": "code",
   "outputs": [],
   "source": [
    "formulae = Formulae()\n",
    "const = formulae.constants\n",
    "pvs_Celsius = formulae.saturation_vapour_pressure.pvs_Celsius\n",
    "\n",
    "RH0 = .75\n",
    "p0 = 950 * si.hPa\n",
    "T0_C = 12 * si.K\n",
    "alt_initial = 500 * si.m \n",
    "alt_final = 3500 * si.m\n",
    "\n",
    "total_displacement = alt_final - alt_initial\n",
    "initial_water_vapour_mixing_ratio = const.eps / (p0 / RH0 / pvs_Celsius(T0_C) - 1)\n",
    "\n",
    "n_sd = 1\n",
    "dt = 10 * si.s\n",
    "vertical_velocity = 2.5 * si.m / si.s"
   ],
   "metadata": {
    "collapsed": false,
    "ExecuteTime": {
     "end_time": "2024-01-09T12:46:19.574346Z",
     "start_time": "2024-01-09T12:46:18.955493Z"
    }
   },
   "id": "81d815991be0cc9",
   "execution_count": 2
  },
  {
   "cell_type": "code",
   "outputs": [],
   "source": [
    "env = Parcel(\n",
    "  # given in the paper\n",
    "  p0=p0,\n",
    "  T0=T0_C + const.T0,\n",
    "  initial_water_vapour_mixing_ratio=initial_water_vapour_mixing_ratio,\n",
    "  # arbitrary choices\n",
    "  w=vertical_velocity,\n",
    "  dt=dt,\n",
    "  mass_of_dry_air=1e3 * si.kg,\n",
    ")"
   ],
   "metadata": {
    "collapsed": false,
    "ExecuteTime": {
     "end_time": "2024-01-09T12:46:21.087894Z",
     "start_time": "2024-01-09T12:46:21.080249Z"
    }
   },
   "id": "dada2ae5b4083f0e",
   "execution_count": 3
  },
  {
   "cell_type": "code",
   "outputs": [],
   "source": [
    "builder = Builder(backend=CPU(formulae=formulae), n_sd=n_sd, environment=env)\n",
    "builder.add_dynamic(AmbientThermodynamics())\n",
    "builder.add_dynamic(Condensation())"
   ],
   "metadata": {
    "collapsed": false,
    "ExecuteTime": {
     "end_time": "2024-01-09T12:46:22.891499Z",
     "start_time": "2024-01-09T12:46:21.625739Z"
    }
   },
   "id": "47f3f883e4e67ed",
   "execution_count": 4
  },
  {
   "cell_type": "code",
   "outputs": [],
   "source": [
    "spectrum = Lognormal(norm_factor=1e4 / si.mg, m_mode=50 * si.nm, s_geom=1.5)\n",
    "kappa = .5 * si.dimensionless\n",
    "cloud_range = (.5 * si.um, 25 * si.um)\n",
    "output_interval = 4\n",
    "output_points = 40"
   ],
   "metadata": {
    "collapsed": false,
    "ExecuteTime": {
     "end_time": "2024-01-09T12:46:22.899166Z",
     "start_time": "2024-01-09T12:46:22.895552Z"
    }
   },
   "id": "f98070a3d550d65",
   "execution_count": 5
  },
  {
   "cell_type": "code",
   "outputs": [],
   "source": [
    "r_dry, specific_concentration = spectral_sampling.Logarithmic(spectrum).sample(n_sd)"
   ],
   "metadata": {
    "collapsed": false,
    "ExecuteTime": {
     "end_time": "2024-01-09T12:46:22.905138Z",
     "start_time": "2024-01-09T12:46:22.900564Z"
    }
   },
   "id": "5ec5eabc3c1d3872",
   "execution_count": 6
  },
  {
   "cell_type": "code",
   "outputs": [],
   "source": [
    "v_dry = formulae.trivia.volume(radius=r_dry)"
   ],
   "metadata": {
    "collapsed": false,
    "ExecuteTime": {
     "end_time": "2024-01-09T12:46:23.212729Z",
     "start_time": "2024-01-09T12:46:22.941084Z"
    }
   },
   "id": "ce639f01f48ff348",
   "execution_count": 7
  },
  {
   "cell_type": "code",
   "outputs": [],
   "source": [
    "r_wet = equilibrate_wet_radii(r_dry=r_dry, environment=env, kappa_times_dry_volume=kappa * v_dry)"
   ],
   "metadata": {
    "collapsed": false,
    "ExecuteTime": {
     "end_time": "2024-01-09T12:46:25.275499Z",
     "start_time": "2024-01-09T12:46:23.213999Z"
    }
   },
   "id": "28897f499330f699",
   "execution_count": 8
  },
  {
   "cell_type": "code",
   "outputs": [],
   "source": [
    "attributes = {\n",
    "  'multiplicity': discretise_multiplicities(specific_concentration * env.mass_of_dry_air),\n",
    "  'dry volume': v_dry,\n",
    "  'kappa times dry volume': kappa * v_dry,\n",
    "  'volume': formulae.trivia.volume(radius=r_wet)\n",
    "}"
   ],
   "metadata": {
    "collapsed": false,
    "ExecuteTime": {
     "end_time": "2024-01-09T12:46:25.280417Z",
     "start_time": "2024-01-09T12:46:25.276699Z"
    }
   },
   "id": "8cf40dfb18e7e082",
   "execution_count": 9
  },
  {
   "cell_type": "code",
   "outputs": [],
   "source": [
    "particulator = builder.build(\n",
    "  attributes=attributes,\n",
    "  products=(\n",
    "    products.PeakSupersaturation(name='S_max'),\n",
    "    products.ParcelDisplacement(name=\"z\"),\n",
    "    products.AmbientTemperature(name=\"T\")\n",
    "  )\n",
    ")"
   ],
   "metadata": {
    "collapsed": false,
    "ExecuteTime": {
     "end_time": "2024-01-09T12:46:25.368949Z",
     "start_time": "2024-01-09T12:46:25.288682Z"
    }
   },
   "id": "f36faa7368db791e",
   "execution_count": 10
  },
  {
   "cell_type": "code",
   "outputs": [],
   "source": [
    "n_steps = total_displacement / (dt * vertical_velocity)\n",
    "\n",
    "output = {name:[] for name in particulator.products}\n",
    "levels = {\n",
    "  'CB': None,\n",
    "  '0C': None\n",
    "}\n",
    "\n",
    "ONE_AND_ONLY_GRID_ELEMENT = 0\n",
    "\n",
    "for step in range(math.ceil(n_steps)):\n",
    "  particulator.run(steps=1)\n",
    "  for name, product in particulator.products.items():\n",
    "    product_buffer_reference = product.get()\n",
    "    output[name].append(product_buffer_reference[ONE_AND_ONLY_GRID_ELEMENT])\n",
    "      \n",
    "  if levels['CB'] is None and output[\"S_max\"][-1] > 0:\n",
    "    levels['CB'] = .5 * (output[\"z\"][-1] + output[\"z\"][-2])\n",
    "      \n",
    "  if levels['0C'] is None and output[\"T\"][-1] < const.T0:\n",
    "    levels['0C'] = .5 * (output['z'][-1] + output[\"z\"][-2])"
   ],
   "metadata": {
    "collapsed": false,
    "ExecuteTime": {
     "end_time": "2024-01-09T12:46:32.527947Z",
     "start_time": "2024-01-09T12:46:25.382205Z"
    }
   },
   "id": "843a224f900fb94d",
   "execution_count": 11
  },
  {
   "cell_type": "code",
   "outputs": [
    {
     "data": {
      "text/plain": "<Figure size 640x480 with 2 Axes>",
      "image/png": "[encoded data removed]"
     },
     "metadata": {},
     "output_type": "display_data"
    }
   ],
   "source": [
    "from matplotlib import pyplot\n",
    "\n",
    "fig, axs = pyplot.subplots(1, 1, squeeze=False)\n",
    "xy1 = axs[0,0]\n",
    "xy2 = xy1.twiny()\n",
    "\n",
    "xy1.plot(\n",
    "  (np.asarray(output['S_max']) + 1) * 100,\n",
    "  np.asarray(output['z']) + alt_initial\n",
    ")\n",
    "xy2.plot(\n",
    "  np.asarray(output['T']) - const.T0,\n",
    "  np.asarray(output['z']) + alt_initial\n",
    ")\n",
    "for level in levels.keys():\n",
    "  xy1.axhline(y=levels[level] + alt_initial, linestyle='--', color='black')\n",
    "\n",
    "xy1.set_xlim(75, 107)\n",
    "xy2.set_xlim(-10, 16)\n",
    "xy1.set_ylim(alt_initial, alt_final)\n",
    "xy1.set_xlabel(\"RH / %\")\n",
    "xy2.set_xlabel(\"T / C\")\n",
    "xy1.set_ylabel(\"z / m\")\n",
    "pyplot.show()"
   ],
   "metadata": {
    "collapsed": false,
    "ExecuteTime": {
     "end_time": "2024-01-09T12:46:33.100692Z",
     "start_time": "2024-01-09T12:46:32.531008Z"
    }
   },
   "id": "a363f02a36a714d",
   "execution_count": 12
  },
  {
   "cell_type": "code",
   "outputs": [],
   "source": [],
   "metadata": {
    "collapsed": false,
    "ExecuteTime": {
     "end_time": "2024-01-09T12:46:33.101916Z",
     "start_time": "2024-01-09T12:46:33.097939Z"
    }
   },
   "id": "5acab115cd92fd9b",
   "execution_count": 12
  },
  {
   "cell_type": "code",
   "outputs": [],
   "source": [],
   "metadata": {
    "collapsed": false,
    "ExecuteTime": {
     "end_time": "2024-01-09T12:46:33.106140Z",
     "start_time": "2024-01-09T12:46:33.103270Z"
    }
   },
   "id": "d0173c4dbd123f7b",
   "execution_count": 12
  },
  {
   "cell_type": "code",
   "outputs": [],
   "source": [],
   "metadata": {
    "collapsed": false
   },
   "id": "430e8a3643291372"
  }
 ],
 "metadata": {
  "kernelspec": {
   "display_name": "Python 3",
   "language": "python",
   "name": "python3"
  },
  "language_info": {
   "codemirror_mode": {
    "name": "ipython",
    "version": 2
   },
   "file_extension": ".py",
   "mimetype": "text/x-python",
   "name": "python",
   "nbconvert_exporter": "python",
   "pygments_lexer": "ipython2",
   "version": "2.7.6"
  }
 },
 "nbformat": 4,
 "nbformat_minor": 5
}
